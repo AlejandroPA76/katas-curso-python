{
 "cells": [
  {
   "cell_type": "code",
   "execution_count": 1,
   "metadata": {},
   "outputs": [
    {
     "name": "stdout",
     "output_type": "stream",
     "text": [
      "asteroide detectado,alerta!\n"
     ]
    }
   ],
   "source": [
    "asteroide=49\n",
    "if asteroide > 25:\n",
    " print('asteroide detectado,alerta!')\n"
   ]
  },
  {
   "cell_type": "code",
   "execution_count": 2,
   "metadata": {},
   "outputs": [
    {
     "name": "stdout",
     "output_type": "stream",
     "text": [
      "sin asteroides\n"
     ]
    }
   ],
   "source": [
    "asteroide=19\n",
    "\n",
    "if asteroide > 20:\n",
    "   print('hay un rayo en el cielo!')\n",
    "elif asteroide == 20:\n",
    "    print('hay un rayo en el cielo!')\n",
    "else:\n",
    "    print('sin asteroides')"
   ]
  },
  {
   "cell_type": "code",
   "execution_count": 3,
   "metadata": {},
   "outputs": [
    {
     "name": "stdout",
     "output_type": "stream",
     "text": [
      "hay un rayo en el cielo!\n"
     ]
    }
   ],
   "source": [
    "asteroide_velocidad=25\n",
    "tamano=35\n",
    "\n",
    "if asteroide_velocidad > 25 and tamano >25:\n",
    "   print('el asteroide causara dano!')\n",
    "elif asteroide_velocidad >= 20:\n",
    "    print('hay un rayo en el cielo!')\n",
    "elif tamano < 25:\n",
    "    print('sin asteroides')\n",
    "else:\n",
    "    print('sin asteroides')"
   ]
  }
 ],
 "metadata": {
  "interpreter": {
   "hash": "e7370f93d1d0cde622a1f8e1c04877d8463912d04d973331ad4851f04de6915a"
  },
  "kernelspec": {
   "display_name": "Python 3.9.7 64-bit",
   "language": "python",
   "name": "python3"
  },
  "language_info": {
   "codemirror_mode": {
    "name": "ipython",
    "version": 3
   },
   "file_extension": ".py",
   "mimetype": "text/x-python",
   "name": "python",
   "nbconvert_exporter": "python",
   "pygments_lexer": "ipython3",
   "version": "3.9.7"
  },
  "orig_nbformat": 4
 },
 "nbformat": 4,
 "nbformat_minor": 2
}
